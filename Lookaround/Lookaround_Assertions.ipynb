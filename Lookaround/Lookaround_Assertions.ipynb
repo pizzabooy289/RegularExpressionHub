{
 "cells": [
  {
   "cell_type": "markdown",
   "id": "54246a10",
   "metadata": {},
   "source": [
    "# 16.1 Cheat sheet: lookaround assertions "
   ]
  },
  {
   "cell_type": "markdown",
   "id": "536c8ee8",
   "metadata": {},
   "source": [
    "| Pattern          | Name                    |\n",
    "| ---------------- | ----------------------- |\n",
    "| ( **?=**  «pattern» )    | Positive lookahead      |\n",
    "| ( **?!**  «pattern» )    | Negative lookahead      |\n",
    "| ( **?<=** «pattern» )   | Positive lookbehind\t |\n",
    "| ( **?<!** «pattern» )   | Negative lookbehind\t |"
   ]
  },
  {
   "cell_type": "markdown",
   "id": "d03615f6",
   "metadata": {},
   "source": [
    "We select the ones with quotation marks and **extract** the quotation marks"
   ]
  },
  {
   "cell_type": "code",
   "execution_count": 1,
   "id": "349d3eb0",
   "metadata": {},
   "outputs": [
    {
     "data": {
      "text/plain": [
       "[ 'are', 'you' ]"
      ]
     },
     "execution_count": 1,
     "metadata": {},
     "output_type": "execute_result"
    }
   ],
   "source": [
    "'how \"are\" \"you\" doing'.match(/(?<=\")[a-z]+(?=\")/g)"
   ]
  },
  {
   "cell_type": "code",
   "execution_count": null,
   "id": "8c5c37b2",
   "metadata": {},
   "outputs": [],
   "source": []
  }
 ],
 "metadata": {
  "kernelspec": {
   "display_name": "Javascript (Node.js)",
   "language": "javascript",
   "name": "javascript"
  },
  "language_info": {
   "file_extension": ".js",
   "mimetype": "application/javascript",
   "name": "javascript",
   "version": "14.18.0"
  }
 },
 "nbformat": 4,
 "nbformat_minor": 5
}
