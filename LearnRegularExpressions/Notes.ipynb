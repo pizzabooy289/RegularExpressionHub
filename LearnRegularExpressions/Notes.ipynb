{
 "cells": [
  {
   "cell_type": "markdown",
   "id": "f9c3df3d",
   "metadata": {},
   "source": [
    "# Introduction"
   ]
  },
  {
   "cell_type": "markdown",
   "id": "df450862",
   "metadata": {},
   "source": [
    "Regular Expression (regex) are used in progrmming langages to match parts of strings. You create patterns to match in the string. You put slash around the pattern. "
   ]
  },
  {
   "cell_type": "markdown",
   "id": "8f5ccfc8",
   "metadata": {},
   "source": [
    "# Examples In JavaScript"
   ]
  },
  {
   "cell_type": "markdown",
   "id": "98990c1f",
   "metadata": {},
   "source": [
    "## Using the Test Method"
   ]
  },
  {
   "cell_type": "markdown",
   "id": "7d98adc2",
   "metadata": {},
   "source": [
    "The **test method** in JavaScript results true if pattern match in the string. See **regex.test(string)** parameter is a **string**"
   ]
  },
  {
   "cell_type": "code",
   "execution_count": 25,
   "id": "81bbd34e",
   "metadata": {},
   "outputs": [
    {
     "name": "stdout",
     "output_type": "stream",
     "text": [
      "result: true\n"
     ]
    }
   ],
   "source": [
    "var myString = \"Hello World!\";\n",
    "var myRegex = /Hello/;\n",
    "var result = myRegex.test(myString);\n",
    "\n",
    "console.log(\"result: \"+ result);"
   ]
  },
  {
   "cell_type": "markdown",
   "id": "8038bf9c",
   "metadata": {},
   "source": [
    "## Match a Literal String with Different Possibilities"
   ]
  },
  {
   "cell_type": "markdown",
   "id": "7d41f3c6",
   "metadata": {},
   "source": [
    "Using the OR operator"
   ]
  },
  {
   "cell_type": "code",
   "execution_count": 26,
   "id": "c810dba4",
   "metadata": {},
   "outputs": [
    {
     "name": "stdout",
     "output_type": "stream",
     "text": [
      "result: true\n"
     ]
    }
   ],
   "source": [
    "var petString = \"James has a pet cat.\";\n",
    "var petRegex = /dog|cat|bird|fish/;\n",
    "var result = petRegex.test(petString);\n",
    "\n",
    "console.log(\"result: \"+ result);"
   ]
  },
  {
   "cell_type": "markdown",
   "id": "4bf94b66",
   "metadata": {},
   "source": [
    "## Ingore Case While Matching"
   ]
  },
  {
   "cell_type": "markdown",
   "id": "634e22da",
   "metadata": {},
   "source": [
    "Ignore Case"
   ]
  },
  {
   "cell_type": "code",
   "execution_count": 27,
   "id": "90f05284",
   "metadata": {},
   "outputs": [
    {
     "name": "stdout",
     "output_type": "stream",
     "text": [
      "result: true\n"
     ]
    }
   ],
   "source": [
    "var fccString = \"freeCodeCamp\";\n",
    "var fccRegex = /freeCodeCamp/i;\n",
    "var result = fccRegex.test(fccString);\n",
    "\n",
    "console.log(\"result: \"+ result);"
   ]
  },
  {
   "cell_type": "markdown",
   "id": "b406dbf8",
   "metadata": {},
   "source": [
    "## Exact Match"
   ]
  },
  {
   "cell_type": "markdown",
   "id": "63db82f6",
   "metadata": {},
   "source": [
    "We can extract the match with the **Match Method**. See **string.match(regex)** parameter is a **regex**"
   ]
  },
  {
   "cell_type": "code",
   "execution_count": 28,
   "id": "58788c0d",
   "metadata": {},
   "outputs": [
    {
     "name": "stdout",
     "output_type": "stream",
     "text": [
      "[\n",
      "  'coding',\n",
      "  index: 18,\n",
      "  input: \"Extract the word 'coding' from this string'\",\n",
      "  groups: undefined\n",
      "]\n"
     ]
    }
   ],
   "source": [
    "var extractString = \"Extract the word 'coding' from this string'\";\n",
    "var extractRegex = /coding/;\n",
    "var result = extractString.match(extractRegex);\n",
    "\n",
    "console.log(result);"
   ]
  },
  {
   "cell_type": "code",
   "execution_count": 29,
   "id": "08b47a5f",
   "metadata": {},
   "outputs": [
    {
     "name": "stdout",
     "output_type": "stream",
     "text": [
      "coding\n"
     ]
    }
   ],
   "source": [
    "var extractString = \"Extract the word 'coding' from this string\";\n",
    "var extractRegex = /coding/;\n",
    "var result = extractString.match(extractRegex);\n",
    "\n",
    "console.log(result[0]);"
   ]
  },
  {
   "cell_type": "markdown",
   "id": "eea5253f",
   "metadata": {},
   "source": [
    "## Find More than the First Match"
   ]
  },
  {
   "cell_type": "markdown",
   "id": "145944f5",
   "metadata": {},
   "source": [
    "So far we've only extracted search patterns one time but it is also possible to search or extract a pattern more than once using g flag "
   ]
  },
  {
   "cell_type": "code",
   "execution_count": 30,
   "id": "030d7da8",
   "metadata": {},
   "outputs": [
    {
     "name": "stdout",
     "output_type": "stream",
     "text": [
      "[ 'Repeat', 'Repeat', 'Repeat' ]\n"
     ]
    }
   ],
   "source": [
    "var repeatString = \"Repeat Repeat Repeat\";\n",
    "var repeatRegex = /Repeat/g;\n",
    "var result = repeatString.match(repeatRegex);\n",
    "\n",
    "console.log(result);"
   ]
  },
  {
   "cell_type": "markdown",
   "id": "245e4400",
   "metadata": {},
   "source": [
    "### Match Anything with Wildcard Period"
   ]
  },
  {
   "cell_type": "markdown",
   "id": "c065e2cf",
   "metadata": {},
   "source": [
    "In Regular Expressions a **period** is wild card charcter"
   ]
  },
  {
   "cell_type": "code",
   "execution_count": 31,
   "id": "3ec6faaa",
   "metadata": {},
   "outputs": [
    {
     "name": "stdout",
     "output_type": "stream",
     "text": [
      "[ 'hum' ]\n"
     ]
    }
   ],
   "source": [
    "var humString = \"I'll hum a song\";\n",
    "var humRegex = /hu./g;\n",
    "var result = humString.match(humRegex);\n",
    "\n",
    "console.log(result);"
   ]
  },
  {
   "cell_type": "code",
   "execution_count": 32,
   "id": "a6df9ebc",
   "metadata": {},
   "outputs": [
    {
     "name": "stdout",
     "output_type": "stream",
     "text": [
      "[ 'hug' ]\n"
     ]
    }
   ],
   "source": [
    "var hugString = \"Bear hug\";\n",
    "var hugRegex = /hu./g;\n",
    "var result = hugString.match(hugRegex);\n",
    "\n",
    "console.log(result);"
   ]
  },
  {
   "cell_type": "markdown",
   "id": "dc8f41f7",
   "metadata": {},
   "source": [
    "## Match Single Character with Muliple Possibilities"
   ]
  },
  {
   "cell_type": "code",
   "execution_count": 33,
   "id": "b9c99fae",
   "metadata": {},
   "outputs": [
    {
     "name": "stdout",
     "output_type": "stream",
     "text": [
      "[ 'bug' ]\n"
     ]
    }
   ],
   "source": [
    "var quoteString = \"Beware of bugs in the above code; I have only proved it correctly\";\n",
    "var bugRegex = /b[aiu]g/ig;\n",
    "var result = quoteString.match(bugRegex);\n",
    "\n",
    "console.log(result);"
   ]
  },
  {
   "cell_type": "markdown",
   "id": "b1a9b374",
   "metadata": {},
   "source": [
    "## Match Letters of the Alphabet "
   ]
  },
  {
   "cell_type": "code",
   "execution_count": 6,
   "id": "3d0dc0ff",
   "metadata": {},
   "outputs": [
    {
     "name": "stdout",
     "output_type": "stream",
     "text": [
      "[\n",
      "  'T', 'h', 'e', 'q', 'u', 'i', 'c',\n",
      "  'k', 'b', 'r', 'o', 'w', 'n', 'f',\n",
      "  'o', 'x', 'j', 'u', 'm', 'p', 's',\n",
      "  'o', 'v', 'e', 'r', 't', 'h', 'e',\n",
      "  'l', 'a', 'z', 'y', 'd', 'o', 'g'\n",
      "]\n",
      "XXX XXXXX XXXXX XXX XXXXX XXXX XXX XXXX XXX.\n"
     ]
    }
   ],
   "source": [
    "var quoteString = \"The quick brown fox jumps over the lazy dog.\";\n",
    "var alphabetRegex = /[a-z]/ig;\n",
    "var result = quoteString.match(alphabetRegex);\n",
    "\n",
    "console.log(result);\n",
    "console.log(quoteString.replace(alphabetRegex, 'X'));"
   ]
  },
  {
   "cell_type": "markdown",
   "id": "c5bcaf9e",
   "metadata": {},
   "source": [
    "## Match Numbers and Letters of the Alphabet"
   ]
  },
  {
   "cell_type": "code",
   "execution_count": 7,
   "id": "0aaacdc9",
   "metadata": {},
   "outputs": [
    {
     "name": "stdout",
     "output_type": "stream",
     "text": [
      "[\n",
      "  '3', '4', '5',\n",
      "  '2', '6', '5',\n",
      "  '3'\n",
      "]\n",
      "Blueberry X.1XX9XXXXs are delicious.\n"
     ]
    }
   ],
   "source": [
    "var quoteString = \"Blueberry 3.14592653s are delicious.\";\n",
    "var alphabetRegex = /[2-6]/g;\n",
    "var result = quoteString.match(alphabetRegex);\n",
    "\n",
    "console.log(result);\n",
    "console.log(quoteString.replace(alphabetRegex, 'X'));"
   ]
  },
  {
   "cell_type": "code",
   "execution_count": 8,
   "id": "c2004b39",
   "metadata": {},
   "outputs": [
    {
     "name": "stdout",
     "output_type": "stream",
     "text": [
      "[\n",
      "  'B', 'l', 'u', 'e', 'b',\n",
      "  'e', 'r', 'r', 'y', 's',\n",
      "  'a', 'r', 'e', 'd', 'e',\n",
      "  'l', 'i', 'c', 'i', 'o',\n",
      "  'u', 's'\n",
      "]\n",
      "XXXXXXXXX 3.14592653X XXX XXXXXXXXX.\n"
     ]
    }
   ],
   "source": [
    "var quoteString = \"Blueberry 3.14592653s are delicious.\";\n",
    "var alphabetRegex = /[a-z]/ig;\n",
    "var result = quoteString.match(alphabetRegex);\n",
    "\n",
    "console.log(result);\n",
    "console.log(quoteString.replace(alphabetRegex, 'X'));"
   ]
  },
  {
   "cell_type": "code",
   "execution_count": 9,
   "id": "532584e7",
   "metadata": {},
   "outputs": [
    {
     "name": "stdout",
     "output_type": "stream",
     "text": [
      "[\n",
      "  'l', 'r', 'r', '3', '4',\n",
      "  '5', '2', '6', '5', '3',\n",
      "  's', 'r', 'l', 'i', 'i',\n",
      "  'o', 's'\n",
      "]\n",
      "BXuebeXXy X.1XX9XXXXX aXe deXXcXXuX.\n"
     ]
    }
   ],
   "source": [
    "var quoteString = \"Blueberry 3.14592653s are delicious.\";\n",
    "var alphabetRegex = /[2-6h-s]/ig;\n",
    "var result = quoteString.match(alphabetRegex);\n",
    "\n",
    "console.log(result);\n",
    "console.log(quoteString.replace(alphabetRegex, 'X'));"
   ]
  },
  {
   "cell_type": "markdown",
   "id": "577aca2f",
   "metadata": {},
   "source": [
    "## Match Single Characters Not Specified"
   ]
  },
  {
   "cell_type": "code",
   "execution_count": 10,
   "id": "dccd2a36",
   "metadata": {},
   "outputs": [
    {
     "name": "stdout",
     "output_type": "stream",
     "text": [
      "[\n",
      "  ' ', 'b', 'l',\n",
      "  'n', 'd', ' ',\n",
      "  'm', 'c', '.'\n",
      "]\n",
      "3XXXiXXXXiXeX\n"
     ]
    }
   ],
   "source": [
    "var quoteString = \"3 blind mice.\";\n",
    "var alphabetRegex = /[^0-9aeiou]/g;\n",
    "var result = quoteString.match(alphabetRegex);\n",
    "\n",
    "console.log(result);\n",
    "console.log(quoteString.replace(alphabetRegex, 'X'));"
   ]
  },
  {
   "cell_type": "markdown",
   "id": "f6fbfd01",
   "metadata": {},
   "source": [
    "## Match Characters that Occur One or More Times "
   ]
  },
  {
   "cell_type": "code",
   "execution_count": 12,
   "id": "8c99899b",
   "metadata": {},
   "outputs": [
    {
     "name": "stdout",
     "output_type": "stream",
     "text": [
      "[ 'ss', 'ss' ]\n",
      "MiXiXippi\n"
     ]
    }
   ],
   "source": [
    "var quoteString = \"Mississippi\";\n",
    "var alphabetRegex = /s+/g;\n",
    "var result = quoteString.match(alphabetRegex);\n",
    "\n",
    "console.log(result);\n",
    "console.log(quoteString.replace(alphabetRegex, 'X'));"
   ]
  },
  {
   "cell_type": "code",
   "execution_count": 11,
   "id": "73115179",
   "metadata": {},
   "outputs": [
    {
     "name": "stdout",
     "output_type": "stream",
     "text": [
      "[ 'ss', 'ss' ]\n",
      "MiXiXippi\n"
     ]
    }
   ],
   "source": [
    "var quoteString = \"Mississippi\";\n",
    "var alphabetRegex = /(s)+/g;\n",
    "var result = quoteString.match(alphabetRegex);\n",
    "\n",
    "console.log(result);\n",
    "console.log(quoteString.replace(alphabetRegex, 'X'));"
   ]
  },
  {
   "cell_type": "markdown",
   "id": "cd6de7a3",
   "metadata": {},
   "source": [
    "## Match Characters that Occur Zero or More Times"
   ]
  },
  {
   "cell_type": "code",
   "execution_count": 13,
   "id": "92d06e18",
   "metadata": {},
   "outputs": [
    {
     "name": "stdout",
     "output_type": "stream",
     "text": [
      "[ 'goooooooooo' ]\n",
      "Xal\n"
     ]
    }
   ],
   "source": [
    "var quoteString = \"gooooooooooal\";\n",
    "var alphabetRegex = /go*/g;\n",
    "var result = quoteString.match(alphabetRegex);\n",
    "\n",
    "console.log(result);\n",
    "console.log(quoteString.replace(alphabetRegex, 'X'));"
   ]
  },
  {
   "cell_type": "code",
   "execution_count": 14,
   "id": "af7c67ce",
   "metadata": {},
   "outputs": [
    {
     "name": "stdout",
     "output_type": "stream",
     "text": [
      "[ 'g', 'g' ]\n",
      "Xut feelinX\n"
     ]
    }
   ],
   "source": [
    "var quoteString = \"gut feeling\";\n",
    "var alphabetRegex = /go*/g;\n",
    "var result = quoteString.match(alphabetRegex);\n",
    "\n",
    "console.log(result);\n",
    "console.log(quoteString.replace(alphabetRegex, 'X'));"
   ]
  },
  {
   "cell_type": "markdown",
   "id": "b4f27004",
   "metadata": {},
   "source": [
    "## Find Character with Lazy Matching"
   ]
  },
  {
   "cell_type": "markdown",
   "id": "5bec4078",
   "metadata": {},
   "source": [
    "Greedy Match finds the longest Match. Regular Expressions default to Greedy Match. "
   ]
  },
  {
   "cell_type": "code",
   "execution_count": 16,
   "id": "4e105574",
   "metadata": {},
   "outputs": [
    {
     "name": "stdout",
     "output_type": "stream",
     "text": [
      "[ 'titani' ]\n",
      "Xc\n"
     ]
    }
   ],
   "source": [
    "var quoteString = \"titanic\";\n",
    "var alphabetRegex = /t[a-z]*i/g;\n",
    "var result = quoteString.match(alphabetRegex);\n",
    "\n",
    "console.log(result);\n",
    "console.log(quoteString.replace(alphabetRegex, 'X'));"
   ]
  },
  {
   "cell_type": "code",
   "execution_count": 21,
   "id": "8c73dc0f",
   "metadata": {},
   "outputs": [
    {
     "name": "stdout",
     "output_type": "stream",
     "text": [
      "[ '<h1>Winter is coming</h1>' ]\n",
      "X\n"
     ]
    }
   ],
   "source": [
    "var quoteString = \"<h1>Winter is coming</h1>\";\n",
    "var alphabetRegex = /<.*>/g;\n",
    "var result = quoteString.match(alphabetRegex);\n",
    "\n",
    "console.log(result);\n",
    "console.log(quoteString.replace(alphabetRegex, 'X'));"
   ]
  },
  {
   "cell_type": "markdown",
   "id": "d9e5b5a3",
   "metadata": {},
   "source": [
    "Lazy Macth finds the shortest Match. The **Question Mark** makes it a Lazy Match. "
   ]
  },
  {
   "cell_type": "code",
   "execution_count": 17,
   "id": "89c409b4",
   "metadata": {},
   "outputs": [
    {
     "name": "stdout",
     "output_type": "stream",
     "text": [
      "[ 'ti', 'tani' ]\n",
      "XXc\n"
     ]
    }
   ],
   "source": [
    "var quoteString = \"titanic\";\n",
    "var alphabetRegex = /t[a-z]*?i/g;\n",
    "var result = quoteString.match(alphabetRegex);\n",
    "\n",
    "console.log(result);\n",
    "console.log(quoteString.replace(alphabetRegex, 'X'));"
   ]
  },
  {
   "cell_type": "code",
   "execution_count": 20,
   "id": "00815943",
   "metadata": {},
   "outputs": [
    {
     "name": "stdout",
     "output_type": "stream",
     "text": [
      "[ '<h1>', '</h1>' ]\n",
      "XWinter is comingX\n"
     ]
    }
   ],
   "source": [
    "var quoteString = \"<h1>Winter is coming</h1>\";\n",
    "var alphabetRegex = /<.*?>/g;\n",
    "var result = quoteString.match(alphabetRegex);\n",
    "\n",
    "console.log(result);\n",
    "console.log(quoteString.replace(alphabetRegex, 'X'));"
   ]
  },
  {
   "cell_type": "markdown",
   "id": "1c9c8074",
   "metadata": {},
   "source": [
    "## Find One or More Criminals in a Hunt"
   ]
  },
  {
   "cell_type": "markdown",
   "id": "d9c1feea",
   "metadata": {},
   "source": [
    "Regex Challenge so here is the scenario a group of criminals escaped from jail and ran away but you do not know how many. But you do not know how many however you do know that they stay close together when they're around other people.  You are responsible for finding all the criminals at once. So the crimainals are represented by a \"c\". Write a regex function that's going to match any times there's is one or mores \"c's\"."
   ]
  },
  {
   "cell_type": "code",
   "execution_count": 23,
   "id": "afbda996",
   "metadata": {},
   "outputs": [
    {
     "name": "stdout",
     "output_type": "stream",
     "text": [
      "[ 'CCC' ]\n",
      "P1P2P3P4P5P6XP7P8P9\n"
     ]
    }
   ],
   "source": [
    "var crowd = \"P1P2P3P4P5P6CCCP7P8P9\"\n",
    "var criminalRegex = /C+/g\n",
    "var result = crowd.match(criminalRegex);\n",
    "\n",
    "console.log(result);\n",
    "console.log(crowd.replace(criminalRegex, 'X'));"
   ]
  },
  {
   "cell_type": "markdown",
   "id": "862d724b",
   "metadata": {},
   "source": [
    "## Match Beginning String Patterns"
   ]
  },
  {
   "cell_type": "code",
   "execution_count": 24,
   "id": "a3e628e4",
   "metadata": {},
   "outputs": [
    {
     "name": "stdout",
     "output_type": "stream",
     "text": [
      "[ 'Cal' ]\n",
      "X and Ricky both like racing.\n"
     ]
    }
   ],
   "source": [
    "var rickyAndCal = \"Cal and Ricky both like racing.\"\n",
    "var calRegex = /^Cal/g\n",
    "var result = rickyAndCal.match(calRegex);\n",
    "\n",
    "console.log(result);\n",
    "console.log(rickyAndCal.replace(calRegex, 'X'));"
   ]
  },
  {
   "cell_type": "markdown",
   "id": "fced702e",
   "metadata": {},
   "source": [
    "## Match Ending String Patterns"
   ]
  },
  {
   "cell_type": "code",
   "execution_count": 26,
   "id": "b2e60a1b",
   "metadata": {},
   "outputs": [
    {
     "name": "stdout",
     "output_type": "stream",
     "text": [
      "null\n",
      "The last car on a caboose train is the\n"
     ]
    }
   ],
   "source": [
    "var caboose = \"The last car on a caboose train is the\"\n",
    "var lastRegex = /caboose$/g\n",
    "var result = caboose.match(lastRegex);\n",
    "\n",
    "console.log(result);\n",
    "console.log(caboose.replace(lastRegex, 'X'));"
   ]
  },
  {
   "cell_type": "code",
   "execution_count": 27,
   "id": "5f30e7ce",
   "metadata": {},
   "outputs": [
    {
     "name": "stdout",
     "output_type": "stream",
     "text": [
      "[ 'caboose' ]\n",
      "The last car on a X\n"
     ]
    }
   ],
   "source": [
    "var caboose = \"The last car on a caboose\"\n",
    "var lastRegex = /caboose$/g\n",
    "var result = caboose.match(lastRegex);\n",
    "\n",
    "console.log(result);\n",
    "console.log(caboose.replace(lastRegex, 'X'));"
   ]
  },
  {
   "cell_type": "markdown",
   "id": "9737c0cc",
   "metadata": {},
   "source": [
    "## Match All Letters and Numbers"
   ]
  },
  {
   "cell_type": "code",
   "execution_count": 29,
   "id": "59a9da7d",
   "metadata": {},
   "outputs": [
    {
     "name": "stdout",
     "output_type": "stream",
     "text": [
      "[\n",
      "  'T', 'h', 'e', '5', 'b', 'o',\n",
      "  'x', 'i', 'n', 'g', 'w', 'i',\n",
      "  'z', 'a', 'r', 'd', 's', 'j',\n",
      "  'u', 'm', 'p', 'q', 'u', 'i',\n",
      "  'c', 'k', 'l', 'y'\n",
      "]\n",
      "XXX X XXXXXX XXXXXXX XXXX XXXXXXX.\n"
     ]
    }
   ],
   "source": [
    "var quoteString = \"The 5 boxing wizards jump quickly.\";\n",
    "var alphabetRegex = /\\w/g;\n",
    "var result = quoteString.match(alphabetRegex);\n",
    "\n",
    "console.log(result);\n",
    "console.log(quoteString.replace(alphabetRegex, 'X'));"
   ]
  },
  {
   "cell_type": "markdown",
   "id": "19550a93",
   "metadata": {},
   "source": [
    "## Match All Numbers"
   ]
  },
  {
   "cell_type": "code",
   "execution_count": 30,
   "id": "dc67ed0d",
   "metadata": {},
   "outputs": [
    {
     "name": "stdout",
     "output_type": "stream",
     "text": [
      "[ '5', '0', '0' ]\n",
      "Your sandwich will be $X.XX\n"
     ]
    }
   ],
   "source": [
    "var quoteString = \"Your sandwich will be $5.00\";\n",
    "var alphabetRegex = /\\d/g;\n",
    "var result = quoteString.match(alphabetRegex);\n",
    "\n",
    "console.log(result);\n",
    "console.log(quoteString.replace(alphabetRegex, 'X'));"
   ]
  },
  {
   "cell_type": "markdown",
   "id": "91e2fb90",
   "metadata": {},
   "source": [
    "## Match All Non-Numbers"
   ]
  },
  {
   "cell_type": "code",
   "execution_count": 31,
   "id": "95e7267b",
   "metadata": {},
   "outputs": [
    {
     "name": "stdout",
     "output_type": "stream",
     "text": [
      "[\n",
      "  'Y', 'o', 'u', 'r', ' ',\n",
      "  's', 'a', 'n', 'd', 'w',\n",
      "  'i', 'c', 'h', ' ', 'w',\n",
      "  'i', 'l', 'l', ' ', 'b',\n",
      "  'e', ' ', '$', '.'\n",
      "]\n",
      "XXXXXXXXXXXXXXXXXXXXXXX5X00\n"
     ]
    }
   ],
   "source": [
    "var quoteString = \"Your sandwich will be $5.00\";\n",
    "var alphabetRegex = /\\D/g;\n",
    "var result = quoteString.match(alphabetRegex);\n",
    "\n",
    "console.log(result);\n",
    "console.log(quoteString.replace(alphabetRegex, 'X'));"
   ]
  },
  {
   "cell_type": "markdown",
   "id": "6d5d162c",
   "metadata": {},
   "source": [
    "## (Coding Challenge) Restrict Possible Usernames"
   ]
  },
  {
   "cell_type": "markdown",
   "id": "a373f5ab",
   "metadata": {},
   "source": [
    "User Name Requirments\n",
    "* If there are number, they must be at the end.\n",
    "* Letters can be lowercase and uppercase\n",
    "* At least two characters long. Two-letter names can not have numbers. "
   ]
  },
  {
   "cell_type": "code",
   "execution_count": 35,
   "id": "00af2419",
   "metadata": {},
   "outputs": [
    {
     "name": "stdout",
     "output_type": "stream",
     "text": [
      "[ 'JackOfAllTrades' ]\n",
      "X\n"
     ]
    }
   ],
   "source": [
    "var username = \"JackOfAllTrades\";\n",
    "var userRegex = /^[A-Za-z]{2,}\\d*$/g;\n",
    "var result = username.match(userRegex);\n",
    "\n",
    "console.log(result);\n",
    "console.log(username.replace(userRegex, 'X'));"
   ]
  },
  {
   "cell_type": "code",
   "execution_count": 36,
   "id": "44370a13",
   "metadata": {},
   "outputs": [
    {
     "name": "stdout",
     "output_type": "stream",
     "text": [
      "[ 'Ja' ]\n",
      "X\n"
     ]
    }
   ],
   "source": [
    "var username = \"Ja\";\n",
    "var userRegex = /^[A-Za-z]{2,}\\d*$/g;\n",
    "var result = username.match(userRegex);\n",
    "\n",
    "console.log(result);\n",
    "console.log(username.replace(userRegex, 'X'));"
   ]
  },
  {
   "cell_type": "markdown",
   "id": "927d7c56",
   "metadata": {},
   "source": [
    "This break this Requirments (At least two characters long. Two-letter names can not have numbers.) so we should get false"
   ]
  },
  {
   "cell_type": "code",
   "execution_count": 37,
   "id": "f6170bf4",
   "metadata": {},
   "outputs": [
    {
     "name": "stdout",
     "output_type": "stream",
     "text": [
      "null\n",
      "J3\n"
     ]
    }
   ],
   "source": [
    "var username = \"J3\";\n",
    "var userRegex = /^[A-Za-z]{2,}\\d*$/g;\n",
    "var result = username.match(userRegex);\n",
    "\n",
    "console.log(result);\n",
    "console.log(username.replace(userRegex, 'X'));"
   ]
  },
  {
   "cell_type": "code",
   "execution_count": 38,
   "id": "e54af937",
   "metadata": {},
   "outputs": [
    {
     "name": "stdout",
     "output_type": "stream",
     "text": [
      "[ 'Ja3' ]\n",
      "X\n"
     ]
    }
   ],
   "source": [
    "var username = \"Ja3\";\n",
    "var userRegex = /^[A-Za-z]{2,}\\d*$/g;\n",
    "var result = username.match(userRegex);\n",
    "\n",
    "console.log(result);\n",
    "console.log(username.replace(userRegex, 'X'));"
   ]
  },
  {
   "cell_type": "markdown",
   "id": "d8380960",
   "metadata": {},
   "source": [
    "## Match Whitespace"
   ]
  },
  {
   "cell_type": "code",
   "execution_count": 41,
   "id": "2a09e0d5",
   "metadata": {},
   "outputs": [
    {
     "name": "stdout",
     "output_type": "stream",
     "text": [
      "[ ' ', ' ', ' ', ' ', ' ' ]\n",
      "WhitespaceXisXimportantXinXseparatingXwords\n"
     ]
    }
   ],
   "source": [
    "var quoteString = \"Whitespace is important in separating words\";\n",
    "var quoteRegex = /\\s/g;\n",
    "var result = quoteString.match(quoteRegex);\n",
    "\n",
    "console.log(result);\n",
    "console.log(quoteString.replace(quoteRegex, 'X'));"
   ]
  },
  {
   "cell_type": "markdown",
   "id": "6b4b556a",
   "metadata": {},
   "source": [
    "## Match Non-Whitespace Characters"
   ]
  },
  {
   "cell_type": "code",
   "execution_count": 40,
   "id": "1fc63144",
   "metadata": {},
   "outputs": [
    {
     "name": "stdout",
     "output_type": "stream",
     "text": [
      "[\n",
      "  'W', 'h', 'i', 't', 'e', 's', 'p',\n",
      "  'a', 'c', 'e', 'i', 's', 'i', 'm',\n",
      "  'p', 'o', 'r', 't', 'a', 'n', 't',\n",
      "  'i', 'n', 's', 'e', 'p', 'a', 'r',\n",
      "  'a', 't', 'i', 'n', 'g', 'w', 'o',\n",
      "  'r', 'd', 's'\n",
      "]\n",
      "XXXXXXXXXX XX XXXXXXXXX XX XXXXXXXXXX XXXXX\n"
     ]
    }
   ],
   "source": [
    "var quoteString = \"Whitespace is important in separating words\";\n",
    "var quoteRegex = /\\S/g;\n",
    "var result = quoteString.match(quoteRegex);\n",
    "\n",
    "console.log(result);\n",
    "console.log(quoteString.replace(quoteRegex, 'X'));"
   ]
  },
  {
   "cell_type": "markdown",
   "id": "3aa30771",
   "metadata": {},
   "source": [
    "## Specify Upper and Lower Number of Matches"
   ]
  },
  {
   "cell_type": "code",
   "execution_count": 42,
   "id": "365caad8",
   "metadata": {},
   "outputs": [
    {
     "name": "stdout",
     "output_type": "stream",
     "text": [
      "[ 'Ohhh no' ]\n",
      "X\n"
     ]
    }
   ],
   "source": [
    "var quoteString = \"Ohhh no\";\n",
    "var quoteRegex = /Oh{3,} no/g;\n",
    "var result = quoteString.match(quoteRegex);\n",
    "\n",
    "console.log(result);\n",
    "console.log(quoteString.replace(quoteRegex, 'X'));"
   ]
  },
  {
   "cell_type": "markdown",
   "id": "0ff1de0b",
   "metadata": {},
   "source": [
    "## Specify Only the Lower Number of Matches"
   ]
  },
  {
   "cell_type": "code",
   "execution_count": 43,
   "id": "db246170",
   "metadata": {},
   "outputs": [
    {
     "name": "stdout",
     "output_type": "stream",
     "text": [
      "[ 'zzzz' ]\n",
      "HaXah\n"
     ]
    }
   ],
   "source": [
    "var quoteString = \"Hazzzzah\";\n",
    "var quoteRegex = /z{3,}/g;\n",
    "var result = quoteString.match(quoteRegex);\n",
    "\n",
    "console.log(result);\n",
    "console.log(quoteString.replace(quoteRegex, 'X'));"
   ]
  },
  {
   "cell_type": "markdown",
   "id": "f4c19d1b",
   "metadata": {},
   "source": [
    "## Specify Exact Number of Matches"
   ]
  },
  {
   "cell_type": "code",
   "execution_count": 44,
   "id": "52d051b9",
   "metadata": {},
   "outputs": [
    {
     "name": "stdout",
     "output_type": "stream",
     "text": [
      "[ 'Timmmmber' ]\n",
      "X\n"
     ]
    }
   ],
   "source": [
    "var quoteString = \"Timmmmber\";\n",
    "var quoteRegex = /Tim{4}ber/g;\n",
    "var result = quoteString.match(quoteRegex);\n",
    "\n",
    "console.log(result);\n",
    "console.log(quoteString.replace(quoteRegex, 'X'));"
   ]
  },
  {
   "cell_type": "markdown",
   "id": "450004fe",
   "metadata": {},
   "source": [
    "## Check for All or None"
   ]
  },
  {
   "cell_type": "code",
   "execution_count": 45,
   "id": "7aeea9f2",
   "metadata": {},
   "outputs": [
    {
     "name": "stdout",
     "output_type": "stream",
     "text": [
      "[ 'favorite' ]\n",
      "X\n"
     ]
    }
   ],
   "source": [
    "var quoteString = \"favorite\";\n",
    "var quoteRegex = /favou?rite/g;\n",
    "var result = quoteString.match(quoteRegex);\n",
    "\n",
    "console.log(result);\n",
    "console.log(quoteString.replace(quoteRegex, 'X'));"
   ]
  },
  {
   "cell_type": "markdown",
   "id": "ee56988c",
   "metadata": {},
   "source": [
    "## Positive and Negative Lookahead"
   ]
  },
  {
   "cell_type": "markdown",
   "id": "c7a7cd9b",
   "metadata": {},
   "source": [
    "Positive Lookahead - make sure something is later in the string. (Returns the q)"
   ]
  },
  {
   "cell_type": "code",
   "execution_count": 51,
   "id": "4ba49984",
   "metadata": {},
   "outputs": [
    {
     "name": "stdout",
     "output_type": "stream",
     "text": [
      "[ 'q' ]\n",
      "Xu\n"
     ]
    }
   ],
   "source": [
    "var quit = \"qu\";\n",
    "var quRegex = /q(?=u)/g;\n",
    "var result = quit.match(quRegex);\n",
    "\n",
    "console.log(result);\n",
    "console.log(quit.replace(quRegex, 'X'));"
   ]
  },
  {
   "cell_type": "code",
   "execution_count": 89,
   "id": "ce7626e3",
   "metadata": {},
   "outputs": [
    {
     "name": "stdout",
     "output_type": "stream",
     "text": [
      "[ 'q' ]\n",
      "Xuqo\n"
     ]
    }
   ],
   "source": [
    "var quit = \"quqo\";\n",
    "var quRegex = /q(?=u)/g;\n",
    "var result = quit.match(quRegex);\n",
    "\n",
    "console.log(result);\n",
    "console.log(quit.replace(quRegex, 'X'));"
   ]
  },
  {
   "cell_type": "markdown",
   "id": "0adbc926",
   "metadata": {},
   "source": [
    "Negative Lookahead  - make sure something is NOT later in the string. (Returns the q)"
   ]
  },
  {
   "cell_type": "code",
   "execution_count": 50,
   "id": "613cc6f7",
   "metadata": {},
   "outputs": [
    {
     "name": "stdout",
     "output_type": "stream",
     "text": [
      "[ 'q' ]\n",
      "Xt\n"
     ]
    }
   ],
   "source": [
    "var notquit = \"qt\";\n",
    "var qRegex = /q(?!u)/g;\n",
    "var result = notquit.match(qRegex);\n",
    "\n",
    "console.log(result);\n",
    "console.log(notquit.replace(qRegex, 'X'));"
   ]
  },
  {
   "cell_type": "markdown",
   "id": "13f9ce85",
   "metadata": {},
   "source": [
    "A more practical use of lookaheads is to check two or more patterns in one string"
   ]
  },
  {
   "cell_type": "markdown",
   "id": "8fdedfe5",
   "metadata": {},
   "source": [
    "We are checking in the string is greater than five characters long and have two consecutive digits"
   ]
  },
  {
   "cell_type": "code",
   "execution_count": 58,
   "id": "1e9f90ce",
   "metadata": {},
   "outputs": [
    {
     "name": "stdout",
     "output_type": "stream",
     "text": [
      "[ 't' ]\n",
      "Xjoe34\n"
     ]
    }
   ],
   "source": [
    "var sampleWord = \"tjoe34\";\n",
    "var pwRegex = /t(?=\\w{5})(?=\\D*\\d{2})/g;\n",
    "var result = sampleWord.match(pwRegex);\n",
    "\n",
    "console.log(result);\n",
    "console.log(sampleWord.replace(pwRegex, 'X'));"
   ]
  },
  {
   "cell_type": "markdown",
   "id": "d4d8afab",
   "metadata": {},
   "source": [
    "## Reuse Patterns Using Capture Groups"
   ]
  },
  {
   "cell_type": "code",
   "execution_count": 59,
   "id": "625022b2",
   "metadata": {},
   "outputs": [
    {
     "name": "stdout",
     "output_type": "stream",
     "text": [
      "[ 'song song' ]\n",
      "X\n"
     ]
    }
   ],
   "source": [
    "var quoteString = \"song song\";\n",
    "var quoteRegex = /(\\w+)\\s\\1/g;\n",
    "var result = quoteString.match(quoteRegex);\n",
    "\n",
    "console.log(result);\n",
    "console.log(quoteString.replace(quoteRegex, 'X'));"
   ]
  },
  {
   "cell_type": "code",
   "execution_count": 61,
   "id": "804bc2f1",
   "metadata": {},
   "outputs": [
    {
     "name": "stdout",
     "output_type": "stream",
     "text": [
      "[ '42 42 42' ]\n",
      "X\n"
     ]
    }
   ],
   "source": [
    "var quoteString = \"42 42 42\";\n",
    "var quoteRegex = /(\\d+)(\\s\\1){2}/g;\n",
    "var result = quoteString.match(quoteRegex);\n",
    "\n",
    "console.log(result);\n",
    "console.log(quoteString.replace(quoteRegex, 'X'));"
   ]
  },
  {
   "cell_type": "markdown",
   "id": "d5fde80a",
   "metadata": {},
   "source": [
    "## Use Capture Groups to Search and Replace"
   ]
  },
  {
   "cell_type": "code",
   "execution_count": 62,
   "id": "3ad5d5bb",
   "metadata": {},
   "outputs": [
    {
     "name": "stdout",
     "output_type": "stream",
     "text": [
      "The sky is blue.\n"
     ]
    }
   ],
   "source": [
    "var wrongText = \"The sky is silver.\";\n",
    "var silverRegex = /silver/;\n",
    "\n",
    "console.log(wrongText.replace(silverRegex, 'blue'));"
   ]
  },
  {
   "cell_type": "code",
   "execution_count": 65,
   "id": "7b073c4b",
   "metadata": {},
   "outputs": [
    {
     "name": "stdout",
     "output_type": "stream",
     "text": [
      "Camp Code\n"
     ]
    }
   ],
   "source": [
    "console.log(\"Code Camp\".replace(/(\\w+)\\s(\\w+)/,'$2 $1'))"
   ]
  },
  {
   "cell_type": "code",
   "execution_count": 66,
   "id": "c9f9ef5c",
   "metadata": {},
   "outputs": [
    {
     "name": "stdout",
     "output_type": "stream",
     "text": [
      "This sandwich is okey-dokey.\n"
     ]
    }
   ],
   "source": [
    "var huhText = \"This sandwich is good.\";\n",
    "\n",
    "var fixRegex = /good/;\n",
    "var replaceText  = \"okey-dokey\"\n",
    "\n",
    "console.log( huhText.replace(fixRegex,replaceText) )"
   ]
  },
  {
   "cell_type": "markdown",
   "id": "ee1669eb",
   "metadata": {},
   "source": [
    "#  (Coding Challenge)  Remove Whitespace from Start and End"
   ]
  },
  {
   "cell_type": "code",
   "execution_count": 74,
   "id": "cd0fa19e",
   "metadata": {},
   "outputs": [
    {
     "name": "stdout",
     "output_type": "stream",
     "text": [
      "'Hello World!'\n"
     ]
    }
   ],
   "source": [
    "var hello = \" Hello World! \"\n",
    "\n",
    "console.log( \"'\"+hello.replace(/^\\s/, \"\" ).replace(/\\s$/, \"\" )+\"'\");"
   ]
  },
  {
   "cell_type": "code",
   "execution_count": 73,
   "id": "90efa318",
   "metadata": {},
   "outputs": [
    {
     "name": "stdout",
     "output_type": "stream",
     "text": [
      "'Hello World!'\n"
     ]
    }
   ],
   "source": [
    "var hello = \" Hello World! \";\n",
    "\n",
    "var helloRegex = /^\\s|\\s$/g;\n",
    "\n",
    "console.log( \"'\"+hello.replace(helloRegex, \"\" )+\"'\" );"
   ]
  },
  {
   "cell_type": "markdown",
   "id": "53576c02",
   "metadata": {},
   "source": [
    "Problem is you can not get the space between Hello World"
   ]
  },
  {
   "cell_type": "code",
   "execution_count": 86,
   "id": "217d6064",
   "metadata": {},
   "outputs": [
    {
     "name": "stdout",
     "output_type": "stream",
     "text": [
      "XHelloWorld!X\n"
     ]
    }
   ],
   "source": [
    "var hello = \" HelloWorld! \";\n",
    "var helloRegex = /[^\\w+!]/g;\n",
    "console.log( hello.replace(helloRegex, 'X') );"
   ]
  },
  {
   "cell_type": "code",
   "execution_count": null,
   "id": "3e8bc2fe",
   "metadata": {},
   "outputs": [],
   "source": []
  }
 ],
 "metadata": {
  "kernelspec": {
   "display_name": "Javascript (Node.js)",
   "language": "javascript",
   "name": "javascript"
  },
  "language_info": {
   "file_extension": ".js",
   "mimetype": "application/javascript",
   "name": "javascript",
   "version": "14.18.0"
  }
 },
 "nbformat": 4,
 "nbformat_minor": 5
}
